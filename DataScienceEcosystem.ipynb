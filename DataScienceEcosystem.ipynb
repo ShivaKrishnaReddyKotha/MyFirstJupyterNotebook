{
 "cells": [
  {
   "cell_type": "markdown",
   "id": "2ca52493-7d45-419d-bb8d-84001a9a2f3b",
   "metadata": {},
   "source": [
    "# Data Science Tools and Ecosystem"
   ]
  },
  {
   "cell_type": "markdown",
   "id": "0510f8b7-0227-4bbf-aadb-19c528aba7e4",
   "metadata": {},
   "source": [
    "In this notebook, Data Science Tools and Ecosystem are summarized."
   ]
  },
  {
   "cell_type": "markdown",
   "id": "feb8c491-d6b3-42a6-a62f-1529f36a5a37",
   "metadata": {},
   "source": [
    "Some of the popular languages that Data Scientists use are:"
   ]
  },
  {
   "cell_type": "markdown",
   "id": "eaf53222-f415-4b0b-b2e2-c087b96abb1d",
   "metadata": {},
   "source": [
    "1. Python\n",
    "2. R\n",
    "3. SQL"
   ]
  },
  {
   "cell_type": "markdown",
   "id": "f1a0f2ea-9de5-48d7-9fbe-7ae488de1e66",
   "metadata": {},
   "source": [
    "Some of the commonly used libraries used by Data Scientists include:"
   ]
  },
  {
   "cell_type": "markdown",
   "id": "ce495601-0858-4995-9304-f661f38a9bf5",
   "metadata": {},
   "source": [
    "1. Python Libraries\n",
    "2. Visualization Libraries\n",
    "3. Machine Learning Libraries\n",
    "4. Deep Learning Libraries"
   ]
  },
  {
   "cell_type": "markdown",
   "id": "2d615c43-96df-4158-a868-867538db6d2f",
   "metadata": {},
   "source": [
    "| Data Science Tools |\n",
    "| ----------------- |\n",
    "| Jupyter Lab |\n",
    "| R Studio |\n",
    "| GitHub |"
   ]
  },
  {
   "cell_type": "markdown",
   "id": "cf921c5f-88a9-40a1-a414-cd1e0c58d167",
   "metadata": {},
   "source": [
    "### Below are a few examples of evaluating arithmetic expressions in Python"
   ]
  },
  {
   "cell_type": "code",
   "execution_count": 2,
   "id": "0ee469ea-5f05-4e7f-ae25-7d1c5b4e4ad1",
   "metadata": {
    "tags": []
   },
   "outputs": [
    {
     "data": {
      "text/plain": [
       "17"
      ]
     },
     "execution_count": 2,
     "metadata": {},
     "output_type": "execute_result"
    }
   ],
   "source": [
    "# This a simple arithmetic expression to mutiply then add integers\n",
    "(3*4)+5"
   ]
  },
  {
   "cell_type": "code",
   "execution_count": 3,
   "id": "a751d50a-72f5-4e8a-9fe2-3f6b690ea4d3",
   "metadata": {
    "tags": []
   },
   "outputs": [
    {
     "data": {
      "text/plain": [
       "3.3333333333333335"
      ]
     },
     "execution_count": 3,
     "metadata": {},
     "output_type": "execute_result"
    }
   ],
   "source": [
    "# This will convert 200 minutes to hours by diving by 60\n",
    "200/60"
   ]
  },
  {
   "cell_type": "markdown",
   "id": "21e2ab49-0433-4ad8-9b37-e1fbd3e714f4",
   "metadata": {},
   "source": [
    "**Objectives:**"
   ]
  },
  {
   "cell_type": "markdown",
   "id": "335c6b26-38aa-40df-97ed-1601b50fd37d",
   "metadata": {},
   "source": [
    "- Python\n",
    "- R\n",
    "- SQL\n",
    "- Scala\n",
    "- Julia"
   ]
  },
  {
   "cell_type": "markdown",
   "id": "ea343b2c-8974-40a6-a6ac-8f93e8718163",
   "metadata": {},
   "source": [
    "## Author"
   ]
  },
  {
   "cell_type": "markdown",
   "id": "55209e21-016e-4be5-b493-fee9bf797b2e",
   "metadata": {},
   "source": [
    "Kotha Shiva Krishna Reddy"
   ]
  },
  {
   "cell_type": "code",
   "execution_count": null,
   "id": "4ab96eca-9377-4304-840b-2e0e87bb7360",
   "metadata": {},
   "outputs": [],
   "source": []
  }
 ],
 "metadata": {
  "kernelspec": {
   "display_name": "Python",
   "language": "python",
   "name": "conda-env-python-py"
  },
  "language_info": {
   "codemirror_mode": {
    "name": "ipython",
    "version": 3
   },
   "file_extension": ".py",
   "mimetype": "text/x-python",
   "name": "python",
   "nbconvert_exporter": "python",
   "pygments_lexer": "ipython3",
   "version": "3.7.12"
  }
 },
 "nbformat": 4,
 "nbformat_minor": 5
}
